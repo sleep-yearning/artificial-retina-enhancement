{
 "cells": [
  {
   "cell_type": "code",
   "execution_count": null,
   "metadata": {},
   "outputs": [],
   "source": [
    "import numpy as np\n",
    "from PIL import Image\n",
    "import os"
   ]
  },
  {
   "cell_type": "code",
   "execution_count": null,
   "metadata": {},
   "outputs": [],
   "source": [
    "#processing of landscape images\n",
    "folder = 'tvmonitor/'\n",
    "formats=[]\n",
    "times=[]\n",
    "saved=0\n",
    "sized=0\n",
    "directory = os.fsencode(\".../VOC2010/JPEGImages/\"+folder)\n",
    "for file in os.listdir(directory):\n",
    "    filename = os.fsdecode(file)\n",
    "    size = Image.open(\".../VOC2010/JPEGImages/\"+folder+filename).size\n",
    "    if(size in formats):\n",
    "        times[formats.index(size)]+=1\n",
    "    else:\n",
    "        formats.append(size)\n",
    "        times.append(1)\n",
    "    if(size == (500, 333)):\n",
    "        immm = Image.open(\".../VOC2010/JPEGImages/\"+folder+filename)\n",
    "        immm.save('.../VOC2010/SELECTION/dimensions/'+folder+filename,quality=100)\n",
    "        saved+=1\n",
    "    if(size[0]==500 and size[1]>333 and size[1]<380):\n",
    "        immmm = Image.open(\".../VOC2010/JPEGImages/\"+folder+filename)\n",
    "        impix = immmm.convert('RGB')\n",
    "        data = np.array(impix)\n",
    "        data = data[:333,:]\n",
    "        saveim= Image.fromarray(data)\n",
    "        saveim.save('.../VOC2010/SELECTION/sized/'+folder+filename,quality=100)\n",
    "        sized+=1"
   ]
  },
  {
   "cell_type": "code",
   "execution_count": null,
   "metadata": {},
   "outputs": [],
   "source": [
    "#processing of portrait images\n",
    "formats=[]\n",
    "times=[]\n",
    "saved=0\n",
    "sized=0\n",
    "directory = os.fsencode(\".../VOC2010/JPEGImages/\"+folder)\n",
    "for file in os.listdir(directory):\n",
    "    filename = os.fsdecode(file)\n",
    "    size = Image.open(\".../VOC2010/JPEGImages/\"+folder+filename).size\n",
    "    if(size in formats):\n",
    "        times[formats.index(size)]+=1\n",
    "    else:\n",
    "        formats.append(size)\n",
    "        times.append(1)\n",
    "    if(size == (333, 500)):\n",
    "        immm = Image.open(\".../VOC2010/JPEGImages/\"+folder+filename)\n",
    "        immm=immm.rotate(-90,expand=True)\n",
    "        immm.save('.../VOC2010/SELECTION/portraitdim/'+folder+filename,quality=100)\n",
    "        saved+=1\n",
    "    if(size[1]==500 and size[0]>333 and size[0]<380):\n",
    "        immmm = Image.open(\".../VOC2010/JPEGImages/\"+folder+filename)\n",
    "        impix = immmm.convert('RGB')\n",
    "        data = np.array(impix)\n",
    "        data = data[:,:333]\n",
    "        saveim= Image.fromarray(data)\n",
    "        saveim=saveim.rotate(-90,expand=True)\n",
    "        saveim.save('.../VOC2010/SELECTION/portraitsized/'+folder+filename,quality=100)\n",
    "        sized+=1"
   ]
  },
  {
   "cell_type": "code",
   "execution_count": null,
   "metadata": {},
   "outputs": [],
   "source": [
    "p=0\n",
    "smallcount =0;\n",
    "total=0\n",
    "for count in times:\n",
    "    if (count>4):\n",
    "        print(formats[p])\n",
    "        print(count)\n",
    "        total+=count\n",
    "    if(count<10):\n",
    "        smallcount+=1\n",
    "    p+=1\n",
    "#total\n",
    "sized\n",
    "#saved"
   ]
  }
 ],
 "metadata": {
  "kernelspec": {
   "display_name": "Python 3",
   "language": "python",
   "name": "python3"
  },
  "language_info": {
   "codemirror_mode": {
    "name": "ipython",
    "version": 3
   },
   "file_extension": ".py",
   "mimetype": "text/x-python",
   "name": "python",
   "nbconvert_exporter": "python",
   "pygments_lexer": "ipython3",
   "version": "3.6.4"
  }
 },
 "nbformat": 4,
 "nbformat_minor": 2
}
