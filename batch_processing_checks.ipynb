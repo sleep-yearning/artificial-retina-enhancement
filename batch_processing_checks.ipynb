{
 "cells": [
  {
   "cell_type": "code",
   "execution_count": 4,
   "metadata": {},
   "outputs": [],
   "source": [
    "import os\n",
    "import scipy.io as sio\n",
    "from shutil import move"
   ]
  },
  {
   "cell_type": "code",
   "execution_count": 69,
   "metadata": {},
   "outputs": [],
   "source": [
    "#general file access\n",
    "src_folder = \".../IMAGE-SELECTION/full-selection/\"\n",
    "easy_folder = \".../IMAGE-SELECTION/easy10/\"\n",
    "difficult_folder = \".../IMAGE-SELECTION/difficult100/\"\n",
    "dest_folder = \".../IMAGE-SELECTION/processed/\"\n",
    "annotation_folder = \".../pascal-parts/Annotations_Part/\"\n",
    "types=os.listdir(src_folder)"
   ]
  },
  {
   "cell_type": "code",
   "execution_count": 70,
   "metadata": {},
   "outputs": [
    {
     "name": "stdout",
     "output_type": "stream",
     "text": [
      "chair 0\n",
      "dog 0\n",
      "bird 0\n",
      "bottle 0\n",
      "boat 0\n",
      "tvmonitor 0\n",
      "horse 0\n",
      "aeroplane 0\n",
      "person 0\n",
      "car 0\n",
      "pottedplant 0\n"
     ]
    }
   ],
   "source": [
    "#annotation availability check\n",
    "annotations = os.listdir(annotation_folder)\n",
    "missing_count =[]\n",
    "not_inside =[]\n",
    "\n",
    "#check over all folders and images\n",
    "for type_folder in types:\n",
    "    current_folder_items = os.listdir(src_folder+type_folder+\"/\")\n",
    "    i =0\n",
    "    for image in current_folder_items:\n",
    "        name = str(os.fsdecode(image)).rstrip('jpg')\n",
    "        #if no corresponding annotation is provided in the annotation folder\n",
    "        if (name+\"mat\" not in annotations):\n",
    "            not_inside.append(name)\n",
    "            #move image to folder 'without_anno' inside source folder and into category folder\n",
    "            move(src_folder+type_folder+\"/\"+name+\"jpg\",src_folder+\"without_anno/\"+type_folder+\"/\"+name+\"jpg\")\n",
    "            i+=1\n",
    "    #number of missing annotations for the category\n",
    "    missing_count.append(i)    \n",
    "#print out number of missing annotations/moved images per category\n",
    "for j in range(len(types)):\n",
    "    print(types[j],missing_count[j])\n",
    "\n",
    "#not_inside"
   ]
  },
  {
   "cell_type": "code",
   "execution_count": null,
   "metadata": {},
   "outputs": [],
   "source": [
    "#check for certain folder with category structure which images fall out\n",
    "check_folder=\".../IMAGE-SELECTION/veryeasy/\"\n",
    "im_without_anno=[]\n",
    "for type_folder in types:\n",
    "    check_dir = os.fsencode(check_folder+type_folder)\n",
    "    for file in os.listdir(check_dir):\n",
    "        name = str(os.fsdecode(file)).rstrip('jpg')\n",
    "        if name in not_inside:\n",
    "            im_without_anno.append(os.fsdecode(file))\n",
    "im_without_anno"
   ]
  },
  {
   "cell_type": "code",
   "execution_count": 24,
   "metadata": {},
   "outputs": [],
   "source": [
    "#object not in picture annotated check\n",
    "#basically finds images in the wrong category\n",
    "def check_object_annotated(directory):\n",
    "    for image_class in types:\n",
    "        current_folder_items = os.listdir(directory+image_class+\"/\")\n",
    "        for image in current_folder_items:\n",
    "            name = str(os.fsdecode(image))\n",
    "            #load annotation and access mask data\n",
    "            mat_content = sio.loadmat(annotation_folder+name.rstrip('jpg')+'mat')\n",
    "            annotation = mat_content['anno'][0,0]\n",
    "            objects = annotation[1][0]\n",
    "\n",
    "            #collect object annotations that match current category \n",
    "            object_pos=[]\n",
    "            typenum=0\n",
    "            for obj in objects:\n",
    "                if obj[0][0]==image_class:\n",
    "                    typenum+=1\n",
    "                    object_pos.append(obj[2])\n",
    "            if typenum==0:\n",
    "                print(\"no object of interest in image \"+name+\" for category \"+image_class)"
   ]
  }
 ],
 "metadata": {
  "kernelspec": {
   "display_name": "Python 3",
   "language": "python",
   "name": "python3"
  },
  "language_info": {
   "codemirror_mode": {
    "name": "ipython",
    "version": 3
   },
   "file_extension": ".py",
   "mimetype": "text/x-python",
   "name": "python",
   "nbconvert_exporter": "python",
   "pygments_lexer": "ipython3",
   "version": "3.6.4"
  }
 },
 "nbformat": 4,
 "nbformat_minor": 2
}
